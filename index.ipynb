{
 "cells": [
  {
   "cell_type": "markdown",
   "id": "22b1ce45",
   "metadata": {},
   "source": [
    "# Sample Distribution vs. Sampling Distribution\n",
    "\n",
    "## Objetivo\n",
    "Demonstrar a diferença entre:\n",
    "- **Sample Distribution:** Distribuição de uma única amostra.\n",
    "- **Sampling Distribution:** Distribuição das médias de múltiplas amostras.\n",
    "\n",
    "## Método\n",
    "1. **Gerar População Artificial**:\n",
    "   - Distribuição Gaussiana: `μ = 50`, `σ = 10`.\n",
    "   - Tamanho da população: `N = 10.000`.\n",
    "   ```python\n",
    "2. **Extrair Amostras**:\n",
    "   - Tamanho da amostra (n) = 100.\n",
    "   - Número de amostras (k) = 1 para Sample Distribution e 1000 para Sampling Distribution.\n",
    "3. **Avaliar Probabilidades**:\n",
    "   - Probabilidade de um valor estar acima de 70 na população.\n",
    "   - Probabilidade de uma média amostral estar acima de 55 na sampling distribution."
   ]
  }
 ],
 "metadata": {
  "language_info": {
   "name": "python"
  }
 },
 "nbformat": 4,
 "nbformat_minor": 5
}
