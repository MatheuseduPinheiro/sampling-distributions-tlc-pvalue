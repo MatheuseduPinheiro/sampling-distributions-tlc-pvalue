{
 "cells": [
  {
   "cell_type": "markdown",
   "id": "22b1ce45",
   "metadata": {},
   "source": [
    "# Sample Distribution vs. Sampling Distribution\n",
    "\n",
    "## Objetivo\n",
    "Demonstrar a diferença entre:\n",
    "- **Sample Distribution:** Distribuição de uma única amostra.\n",
    "- **Sampling Distribution:** Distribuição das médias de múltiplas amostras.\n",
    "\n",
    "## Método\n",
    "1. **Gerar População Artificial**:\n",
    "   - Distribuição Gaussiana: `μ = 50`, `σ = 10`.\n",
    "   - Tamanho da população: `N = 10.000`.\n",
    "   ```python\n",
    "2. **Extrair Amostras**:\n",
    "   - Tamanho da amostra (n) = 100.\n",
    "   - Número de amostras (k) = 1 para Sample Distribution e 1000 para Sampling Distribution.\n",
    "3. **Avaliar Probabilidades**:\n",
    "   - Probabilidade de um valor estar acima de 70 na população.\n",
    "   - Probabilidade de uma média amostral estar acima de 55 na sampling distribution."
   ]
  },
  {
   "cell_type": "markdown",
   "id": "8a4e38b0",
   "metadata": {},
   "source": [
    "## Importação das Bibliotecas do Projeto"
   ]
  },
  {
   "cell_type": "code",
   "execution_count": null,
   "id": "fc538d74",
   "metadata": {},
   "outputs": [],
   "source": [
    "import numpy as np\n",
    "import matplotlib.pyplot as plt\n",
    "import seaborn as sns\n",
    "from scipy.stats import norm"
   ]
  },
  {
   "cell_type": "markdown",
   "id": "34f2e168",
   "metadata": {},
   "source": [
    "## PARTE A"
   ]
  },
  {
   "cell_type": "markdown",
   "id": "cf8078b4",
   "metadata": {},
   "source": [
    "### 1. Criar População"
   ]
  },
  {
   "cell_type": "code",
   "execution_count": null,
   "id": "e8a0ccc8",
   "metadata": {},
   "outputs": [],
   "source": [
    "np.random.seed(42)  # Para reprodutibilidade\n",
    "mu, sigma = 50, 10\n",
    "N = 10000\n",
    "populacao = np.random.normal(mu, sigma, N)"
   ]
  }
 ],
 "metadata": {
  "kernelspec": {
   "display_name": "Python 3",
   "language": "python",
   "name": "python3"
  },
  "language_info": {
   "name": "python",
   "version": "3.10.2"
  }
 },
 "nbformat": 4,
 "nbformat_minor": 5
}
